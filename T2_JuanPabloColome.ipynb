{
 "cells": [
  {
   "cell_type": "markdown",
   "metadata": {},
   "source": [
    "# TAREA 2\n",
    "\n",
    "## Juan Pablo Colomé"
   ]
  },
  {
   "cell_type": "markdown",
   "metadata": {},
   "source": [
    "#### Resumen de el siguiente artículo:\n",
    "- https://www.databricks.com/glossary/mlops"
   ]
  },
  {
   "cell_type": "markdown",
   "metadata": {},
   "source": [
    "### WHAT IS MLOPS\n",
    "- MLOPS stand for machine learning operations.\n",
    "- Its focus is to create models, use them into production, and maintaining them."
   ]
  },
  {
   "cell_type": "markdown",
   "metadata": {},
   "source": [
    "### USE OF MLOPS\n",
    "- Its use is for the creation and the quality of machine learning and ai solutions."
   ]
  },
  {
   "cell_type": "markdown",
   "metadata": {},
   "source": [
    "### WHY DO WE NEED MLOPS\n",
    "- The machine learning lifecycle consits of very complex steps.\n",
    "- MLOps contains this lifecycle and improves it."
   ]
  },
  {
   "cell_type": "markdown",
   "metadata": {},
   "source": [
    "### BENEFITS OF MLOPS\n",
    "- Efficiency: faster ML models, better quality in the ML models and faster deployment and production.\n",
    "- Scalability: can control, manage and monitor thousands of models.\n",
    "- Risk reduction: ML models often need regulatory scrutiny and drift-check. MLOps enables greater transparency and faster response to such requests"
   ]
  },
  {
   "cell_type": "markdown",
   "metadata": {},
   "source": [
    "### COMPONENTS OF MLOPS\n",
    "- Exploratory data analysis (EDA)\n",
    "- Data Prep and Feature Engineering\n",
    "- Model training and tuning\n",
    "- Model review and governance\n",
    "- Model inference and serving\n",
    "- Model monitoring\n",
    "- Automated model retraining"
   ]
  },
  {
   "cell_type": "markdown",
   "metadata": {},
   "source": [
    "### DIFFERENCE BETWEE MLOPS AND DEVOPS\n",
    "- The main difference is that MLOps is more specific, to just Machine Learning models.\n",
    "- They both bring higher software quality, faster patching and releases, and higher customer satisfaction."
   ]
  },
  {
   "cell_type": "markdown",
   "metadata": {},
   "source": [
    "### MLOPS PLATAFORM\n",
    "- A plataform for MLOps is a collaborative environment that facilitates iterative data exploration, real-time co-working capabilities for experiment tracking, feature engineering, and model management, as well as controlled model transitioning, deployment, and monitoring."
   ]
  }
 ],
 "metadata": {
  "language_info": {
   "name": "python"
  }
 },
 "nbformat": 4,
 "nbformat_minor": 2
}
